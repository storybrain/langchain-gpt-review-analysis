{
 "cells": [
  {
   "cell_type": "markdown",
   "metadata": {},
   "source": [
    "# Using LangChain and GPT for AI-Powered Reviews Analysis"
   ]
  },
  {
   "cell_type": "markdown",
   "metadata": {},
   "source": [
    "In this notebook, we'll demonstrate how to integrate LangChain with GPT for extracting and analyzing product reviews. This is a practical approach to extracting structured information from unstructured data, such as web pages."
   ]
  },
  {
   "cell_type": "markdown",
   "metadata": {},
   "source": [
    "## Setup and Initialization\n",
    "\n",
    "First, let's install the necessary libraries. "
   ]
  },
  {
   "cell_type": "raw",
   "metadata": {},
   "source": [
    "!pip install langchain openai asyncio nest_asyncio lxml python-dotenv playwright\n",
    "!playwright install"
   ]
  },
  {
   "cell_type": "markdown",
   "metadata": {},
   "source": [
    "\n",
    "Then, let's import the necessary libraries and configure our environment."
   ]
  },
  {
   "cell_type": "code",
   "execution_count": null,
   "metadata": {},
   "outputs": [],
   "source": [
    "import asyncio\n",
    "import nest_asyncio\n",
    "from langchain.agents.agent_toolkits import PlayWrightBrowserToolkit\n",
    "from langchain.tools.playwright.utils import create_async_playwright_browser\n",
    "from langchain.chat_models import ChatOpenAI\n",
    "from langchain.chains import create_extraction_chain\n",
    "import os\n",
    "from dotenv import load_dotenv, find_dotenv\n",
    "\n",
    "# Load environment variables from the .env file.\n",
    "load_dotenv(find_dotenv())\n",
    "\n",
    "# Allow nested async calls.\n",
    "nest_asyncio.apply()"
   ]
  },
  {
   "cell_type": "markdown",
   "metadata": {},
   "source": [
    "## Web Scraping with PlayWright\n",
    "\n",
    "We'll use the PlayWright toolkit to navigate to the desired Amazon product reviews URL and extract the reviews."
   ]
  },
  {
   "cell_type": "code",
   "execution_count": null,
   "metadata": {},
   "outputs": [],
   "source": [
    "async def fetch_reviews():\n",
    "    async_browser = create_async_playwright_browser()\n",
    "    toolkit = PlayWrightBrowserToolkit.from_browser(async_browser=async_browser)\n",
    "    tools = toolkit.get_tools()\n",
    "\n",
    "    tools_by_name = {tool.name: tool for tool in tools}\n",
    "    navigate_tool = tools_by_name[\"navigate_browser\"]\n",
    "    get_elements_tool = tools_by_name[\"get_elements\"]\n",
    "\n",
    "    await navigate_tool.arun(\n",
    "        {\"url\": \"https://www.amazon.com/OnePlus-Unlocked-Android-Smartphone-Charging/product-reviews/B07XWGWPH5/ref=cm_cr_dp_d_show_all_btm?ie=UTF8&reviewerType=all_reviews\"}\n",
    "    )\n",
    "\n",
    "    elements = await get_elements_tool.arun(\n",
    "        {\"selector\": \".review\", \"attributes\": [\"innerText\"]}\n",
    "    )\n",
    "    return elements\n",
    "\n",
    "# Fetch reviews\n",
    "reviews = asyncio.run(fetch_reviews())"
   ]
  },
  {
   "cell_type": "markdown",
   "metadata": {},
   "source": [
    "## Data Extraction and Analysis with GPT\n",
    "\n",
    "Now, we'll define the schema for the extracted reviews and use GPT to process this data."
   ]
  },
  {
   "cell_type": "code",
   "execution_count": null,
   "metadata": {},
   "outputs": [],
   "source": [
    "schema = {\n",
    "    \"properties\": {\n",
    "        \"name\": {\"type\": \"string\"},\n",
    "        \"review\": {\"type\": \"string\"},\n",
    "        \"rating\": {\"type\": \"integer\"},\n",
    "    },\n",
    "    \"required\": [\"name\", \"review\", \"rating\"],\n",
    "}\n",
    "\n",
    "llm = ChatOpenAI(\n",
    "    temperature=0, \n",
    "    model=\"gpt-3.5-turbo\",\n",
    "    openai_api_key=os.getenv(\"OPENAI_API_KEY\")\n",
    ")\n",
    "\n",
    "chain = create_extraction_chain(schema, llm)\n",
    "results = chain.run(reviews)\n",
    "\n",
    "print(results)"
   ]
  },
  {
   "cell_type": "markdown",
   "metadata": {},
   "source": [
    "## Conclusion\n",
    "\n",
    "With the combined power of LangChain and GPT, we've efficiently extracted and processed product reviews from a webpage. This approach showcases the potential of integrating web scraping tools with advanced NLP models for various data analysis tasks."
   ]
  },
  {
   "cell_type": "code",
   "execution_count": null,
   "metadata": {},
   "outputs": [],
   "source": []
  }
 ],
 "metadata": {
  "language_info": {
   "name": "python"
  },
  "orig_nbformat": 4
 },
 "nbformat": 4,
 "nbformat_minor": 2
}
