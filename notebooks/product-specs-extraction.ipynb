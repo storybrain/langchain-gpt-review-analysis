{
 "cells": [
  {
   "cell_type": "markdown",
   "metadata": {},
   "source": [
    "## Extracting Product Specifications using LangChain and GPT\n",
    "\n",
    "You might have interacted with langchain and OpenAI. But have you ever wished for the capability to extract specific information from a vast product description? Today, we'll discuss how to extract product specifications from textual descriptions using LangChain, a powerful framework tailored for applications driven by language models like GPT.\n",
    "\n",
    "In this session, we'll harness the potential of GPT and LangChain to meticulously extract product specifications from textual descriptions, especially focusing on:\n",
    "- **Setting Up**: Getting OpenAI key and integrating it with your Workspace.\n",
    "- **LangChain Installation**: We'll dive into the installation process of the LangChain package.\n",
    "- **Extraction Chain**: We'll explore the LangChain framework and its components.\n",
    "- **Schema**: We'll create a schema for the product specifications we want to extract.\n",
    "- **Extracting Data**: The climax of our journey — extracting product specifications from the textual descriptions.\n",
    "\n",
    "By the end of this session, you'll be equipped with the knowledge and tools needed to extract product specifications seamlessly.\n"
   ]
  },
  {
   "cell_type": "markdown",
   "metadata": {},
   "source": [
    "## Install required packages\n",
    "\n",
    "We'll start by installing the required packages. We'll need the following packages:"
   ]
  },
  {
   "cell_type": "code",
   "execution_count": null,
   "metadata": {},
   "outputs": [],
   "source": [
    "!pip install langchain openai python-dotenv"
   ]
  },
  {
   "cell_type": "markdown",
   "metadata": {},
   "source": [
    "## Import langchain library\n",
    "\n",
    "We'll import the `create_extraction_chain` function from the `langchain` library. This function will help us create an extraction chain. Also we'll import the `ChatOpenAI` class from the `langchain` library for interacting with OpenAI."
   ]
  },
  {
   "cell_type": "code",
   "execution_count": null,
   "metadata": {},
   "outputs": [],
   "source": [
    "from langchain.chat_models import ChatOpenAI\n",
    "from langchain.chains import create_extraction_chain\n"
   ]
  },
  {
   "cell_type": "markdown",
   "metadata": {},
   "source": [
    "## Setup openai key\n",
    "\n",
    "We need to set up the OpenAI key to interact with OpenAI. We'll set the `OPENAI_API_KEY` environment variable to the OpenAI key."
   ]
  },
  {
   "cell_type": "code",
   "execution_count": null,
   "metadata": {},
   "outputs": [],
   "source": [
    "from dotenv import load_dotenv, find_dotenv\n",
    "import os\n",
    "\n",
    "# Load environment variables from the .env file\n",
    "load_dotenv(find_dotenv())"
   ]
  },
  {
   "cell_type": "markdown",
   "metadata": {},
   "source": [
    "## Define Description and Extraction Schema\n",
    "\n",
    "We'll specify the description text and define a schema to extract the desired properties from it.\n",
    "Schema is a dictionary that holds the information about the properties we want to extract. The keys of the schema are the names of the properties we want to extract, and the values are the corresponding prompts that will be used to extract the properties."
   ]
  },
  {
   "cell_type": "code",
   "execution_count": null,
   "metadata": {},
   "outputs": [],
   "source": [
    "description_text = \"\"\"\n",
    "MacBook Pro M2 Max takes its power and efficiency further than ever.\n",
    "It delivers exceptional performance whether it's plugged in or not, \n",
    "and now has even longer battery life. Combined with a stunning \n",
    "Liquid Retina XDR display and all the ports you need - this is a pro\n",
    "laptop without equal.Supercharged by 12-core CPU Up to 38-core GPU\n",
    "Up to 96GB unified memory 400GB/s memory bandwidth. \n",
    "\"\"\"\n",
    "\n",
    "schema = {\n",
    "    \"properties\": {\n",
    "        \"name\": {\"type\": \"string\"},\n",
    "        \"ram\": {\"type\": \"string\"},\n",
    "        \"cpu\": {\"type\": \"string\"},\n",
    "        \"gpu\": {\"type\": \"string\"},\n",
    "        \"display\": {\"type\": \"string\"},\n",
    "        \"review\": {\"type\": \"string\"}\n",
    "    },\n",
    "    \"required\": [\"name\", \"ram\", \"cpu\"],\n",
    "}"
   ]
  },
  {
   "cell_type": "markdown",
   "metadata": {},
   "source": [
    "## Run Extraction and Display Results\n",
    "\n",
    "Now, we'll utilize the LangChain and GPT integration to extract the product specifications from the description."
   ]
  },
  {
   "cell_type": "code",
   "execution_count": null,
   "metadata": {},
   "outputs": [],
   "source": [
    "def extract_specs_from_description(description):\n",
    "    llm = ChatOpenAI(temperature=0, model=\"gpt-3.5-turbo\",\n",
    "                     openai_api_key=os.getenv(\"OPENAI_API_KEY\"))\n",
    "    chain = create_extraction_chain(schema, llm)\n",
    "    return chain.run(description)\n",
    "\n",
    "results = extract_specs_from_description(description_text)\n",
    "results"
   ]
  },
  {
   "cell_type": "markdown",
   "metadata": {},
   "source": [
    "## Conclusion\n",
    "\n",
    "With the combined capabilities of LangChain and GPT, we've managed to extract key product specifications from a textual description. This approach can be adapted to various other product description and categories."
   ]
  }
 ],
 "metadata": {
  "language_info": {
   "name": "python"
  },
  "orig_nbformat": 4
 },
 "nbformat": 4,
 "nbformat_minor": 2
}
